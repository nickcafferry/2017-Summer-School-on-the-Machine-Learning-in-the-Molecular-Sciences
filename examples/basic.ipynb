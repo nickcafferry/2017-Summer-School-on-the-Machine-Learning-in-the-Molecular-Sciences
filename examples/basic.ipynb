{
 "cells": [
  {
   "cell_type": "code",
   "execution_count": 1,
   "metadata": {
    "collapsed": true
   },
   "outputs": [],
   "source": [
    "import numpy as np\n",
    "import pymbd as pymbd\n",
    "\n",
    "bohr = pymbd.bohr\n",
    "# initialize the frequency grid to 20 points\n",
    "pymbd.lib.init_grid(20)"
   ]
  },
  {
   "cell_type": "markdown",
   "metadata": {},
   "source": [
    "## Benzene dimer"
   ]
  },
  {
   "cell_type": "code",
   "execution_count": 2,
   "metadata": {
    "collapsed": true
   },
   "outputs": [],
   "source": [
    "bz2_xyz = \"\"\"\n",
    "24\n",
    "Formula: C12H12\n",
    " C     -1.04782520     -1.42167360      0.00000000\n",
    " C     -1.45450340     -0.85544590      1.20620480\n",
    " C     -1.45450340     -0.85544590     -1.20620480\n",
    " C     -2.26679700      0.27716100      1.20695390\n",
    " C     -2.67147810      0.84502110      0.00000000\n",
    " C     -2.26679700      0.27716100     -1.20695390\n",
    " H     -1.13385340     -1.29205930     -2.14231500\n",
    " H     -2.58249430      0.71630660     -2.14379770\n",
    " H     -3.30304220      1.72327000      0.00000000\n",
    " H     -2.58249430      0.71630660      2.14379770\n",
    " H     -1.13385340     -1.29205930      2.14231500\n",
    " H     -0.40602530     -2.29190490      0.00000000\n",
    " C      1.04782520      1.42167360      0.00000000\n",
    " C      1.45450340      0.85544590     -1.20620480\n",
    " C      1.45450340      0.85544590      1.20620480\n",
    " C      2.26679700     -0.27716100     -1.20695390\n",
    " C      2.67147810     -0.84502110      0.00000000\n",
    " C      2.26679700     -0.27716100      1.20695390\n",
    " H      0.40602530      2.29190490      0.00000000\n",
    " H      1.13385340      1.29205930      2.14231500\n",
    " H      2.58249430     -0.71630660      2.14379770\n",
    " H      3.30304220     -1.72327000      0.00000000\n",
    " H      2.58249430     -0.71630660     -2.14379770\n",
    " H      1.13385340      1.29205930     -2.14231500\n",
    "\"\"\".strip()"
   ]
  },
  {
   "cell_type": "code",
   "execution_count": 3,
   "metadata": {
    "collapsed": true
   },
   "outputs": [],
   "source": [
    "# create a list of species and coordinates in atomic units\n",
    "f = (l for l in bz2_xyz.split('\\n'))\n",
    "n = int(next(f))\n",
    "next(f)\n",
    "species = []\n",
    "coords = []\n",
    "for _ in range(n):\n",
    "    words = next(f).split()\n",
    "    species.append(words[0])\n",
    "    coords.append([float(x) for x in words[1:4]])\n",
    "coords = np.array(coords)/bohr"
   ]
  },
  {
   "cell_type": "code",
   "execution_count": 4,
   "metadata": {},
   "outputs": [
    {
     "data": {
      "text/plain": [
       "-0.02323421191860575"
      ]
     },
     "execution_count": 4,
     "metadata": {},
     "output_type": "execute_result"
    }
   ],
   "source": [
    "pymbd.mbd_rsscs(\n",
    "    coords,  # N x 3 matrix of coordinates\n",
    "    species,  # N vector of species\n",
    "    0.8*np.ones(len(coords)),  #  N vector of Hirshfeld volume ratios\n",
    "    0.83  # damping parameter beta\n",
    ")"
   ]
  },
  {
   "cell_type": "code",
   "execution_count": 5,
   "metadata": {},
   "outputs": [
    {
     "data": {
      "text/plain": [
       "(-0.0232342119186022,\n",
       " array([ 0.44215644,  0.44699947,  0.44917476,  0.44920394,  0.4665072 ,\n",
       "         0.47332765,  0.48021338,  0.48175894,  0.48202654,  0.48287209,\n",
       "         0.48448612,  0.48795503,  0.48881778,  0.48989417,  0.49116223,\n",
       "         0.49346682,  0.49366698,  0.49519783,  0.49573014,  0.49670751,\n",
       "         0.49701117,  0.49712092,  0.49743291,  0.49793701,  0.49827511,\n",
       "         0.49884946,  0.49929608,  0.49995142,  0.50039069,  0.50091656,\n",
       "         0.50149599,  0.50205531,  0.5026483 ,  0.50274327,  0.50294252,\n",
       "         0.50301507,  0.50359424,  0.50361667,  0.50428319,  0.50447879,\n",
       "         0.50543607,  0.50600807,  0.5065742 ,  0.50678104,  0.50706914,\n",
       "         0.50738294,  0.50763074,  0.50792556,  0.50799286,  0.50840112,\n",
       "         0.5086521 ,  0.51215136,  0.51228888,  0.51313983,  0.51336727,\n",
       "         0.51460737,  0.51469167,  0.51597651,  0.5210944 ,  0.52364357,\n",
       "         0.52584406,  0.52668732,  0.52780458,  0.52789808,  0.52861305,\n",
       "         0.53490074,  0.53887548,  0.54923677,  0.5542556 ,  0.56301231,\n",
       "         0.56831463,  0.60460973]),\n",
       " array([[ -5.02228069e-16,   2.20027540e-01,   5.79698959e-15, ...,\n",
       "           2.26537681e-01,  -3.09540961e-01,   1.74114592e-01],\n",
       "        [  2.44029451e-16,  -1.97395893e-01,  -4.99390195e-15, ...,\n",
       "          -1.29723664e-01,   2.00221279e-01,   2.49933758e-01],\n",
       "        [ -9.00841217e-02,  -1.56315932e-14,  -2.29985067e-01, ...,\n",
       "           3.32185331e-16,  -2.36320420e-15,  -1.05846719e-16],\n",
       "        ..., \n",
       "        [  1.43793316e-01,  -6.33049162e-02,   7.46537737e-02, ...,\n",
       "          -9.98357658e-02,  -8.08091613e-02,  -8.33869911e-02],\n",
       "        [ -5.96985204e-02,   5.08803389e-02,  -1.06219604e-01, ...,\n",
       "          -2.79483164e-02,   6.28087070e-02,  -7.88095245e-02],\n",
       "        [  1.04442200e-01,  -6.99297018e-02,  -7.60849256e-02, ...,\n",
       "          -7.59316665e-02,  -6.58337399e-03,   9.05991334e-02]]))"
      ]
     },
     "execution_count": 5,
     "metadata": {},
     "output_type": "execute_result"
    }
   ],
   "source": [
    "pymbd.mbd_rsscs(coords, species, 0.8*np.ones(len(coords)), 0.83, get_spectrum=True)"
   ]
  },
  {
   "cell_type": "markdown",
   "metadata": {},
   "source": [
    "## Amonia crystal"
   ]
  },
  {
   "cell_type": "code",
   "execution_count": 5,
   "metadata": {
    "collapsed": true
   },
   "outputs": [],
   "source": [
    "# the fifth column contains Hirshfeld volumes from a DFT calculation\n",
    "am_geom = \"\"\"\n",
    "16\n",
    "  4.9621636999999996  0.0000000000000000  0.0000000000000000\n",
    "  0.0000000000000000  4.9621636999999996  0.0000000000000000\n",
    "  0.0000000000000000  0.0000000000000000  4.9621636999999996\n",
    "H\t1.8596\t1.3558\t0.5232\t0.731657\n",
    "H\t1.3558\t0.5232\t1.8596\t0.731657\n",
    "H\t0.5232\t1.8596\t1.3558\t0.731657\n",
    "H\t4.3407\t1.1253\t4.439\t0.731657\n",
    "H\t3.8368\t1.9579\t3.1025\t0.731657\n",
    "H\t3.0043\t0.6214\t3.6064\t0.731657\n",
    "H\t3.6064\t3.0043\t0.6214\t0.731657\n",
    "H\t4.439\t4.3407\t1.1253\t0.731657\n",
    "H\t1.9579\t3.1025\t3.8368\t0.731657\n",
    "H\t0.6214\t3.6064\t3.0043\t0.731657\n",
    "H\t1.1253\t4.439\t4.3407\t0.731657\n",
    "H\t3.1025\t3.8368\t1.9579\t0.731657\n",
    "N\t1.0342\t1.0342\t1.0342\t0.838337\n",
    "N\t3.5152\t1.4469\t3.928\t0.838337\n",
    "N\t3.928\t3.5152\t1.4469\t0.838337\n",
    "N\t1.4469\t3.928\t3.5152\t0.838337\n",
    "\"\"\".strip()"
   ]
  },
  {
   "cell_type": "code",
   "execution_count": 6,
   "metadata": {
    "collapsed": true
   },
   "outputs": [],
   "source": [
    "f = (l for l in am_geom.split('\\n'))\n",
    "n = int(next(f))\n",
    "lattice = []\n",
    "for _ in range(3):\n",
    "    words = next(f).split()\n",
    "    lattice.append([float(x) for x in words])\n",
    "species = []\n",
    "coords = []\n",
    "volumes = []\n",
    "for _ in range(n):\n",
    "    words = next(f).split()\n",
    "    species.append(words[0])\n",
    "    coords.append([float(x) for x in words[1:4]])\n",
    "    volumes.append(float(words[4]))\n",
    "coords = np.array(coords)/bohr\n",
    "volumes = np.array(volumes)"
   ]
  },
  {
   "cell_type": "code",
   "execution_count": 7,
   "metadata": {},
   "outputs": [
    {
     "data": {
      "text/plain": [
       "-0.4813682617018039"
      ]
     },
     "execution_count": 7,
     "metadata": {},
     "output_type": "execute_result"
    }
   ],
   "source": [
    "pymbd.mbd_rsscs(\n",
    "    coords,\n",
    "    species,\n",
    "    volumes,\n",
    "    0.83,\n",
    "    lattice=lattice,  # lattice vectors\n",
    "    k_grid=(5, 5, 5)  # 5x5x5 k-point grid\n",
    ")"
   ]
  }
 ],
 "metadata": {
  "kernelspec": {
   "display_name": "Python 3",
   "language": "python",
   "name": "python3"
  },
  "language_info": {
   "codemirror_mode": {
    "name": "ipython",
    "version": 3
   },
   "file_extension": ".py",
   "mimetype": "text/x-python",
   "name": "python",
   "nbconvert_exporter": "python",
   "pygments_lexer": "ipython3",
   "version": "3.6.1"
  }
 },
 "nbformat": 4,
 "nbformat_minor": 1
}
